{
 "cells": [
  {
   "cell_type": "code",
   "execution_count": 6,
   "metadata": {},
   "outputs": [
    {
     "name": "stdout",
     "output_type": "stream",
     "text": [
      "Here's something I found, Answer: Karthikeyan \n",
      "\n"
     ]
    }
   ],
   "source": [
    "import pandas as pd\n",
    "from fuzzywuzzy import fuzz\n",
    "from fuzzywuzzy import process\n",
    "\n",
    "faq_data = pd.read_csv('./data/FAQ.csv')\n",
    "#faq_data.head()\n",
    "query = \"Who is the lead of GPTS?\"\n",
    "questions = faq_data['question'].values.tolist()\n",
    "answer = faq_data['answers'].values.tolist()\n",
    "Ratios = process.extract(query, questions)\n",
    "#print(Ratios)\n",
    "\n",
    "mathed_question, score = process.extractOne(query, questions, scorer=fuzz.token_set_ratio)\n",
    "if score > 50:\n",
    "    matched_row = faq_data.loc[faq_data['question'] == mathed_question,]\n",
    "    answer = matched_row['answers'].values[0]\n",
    "    response = \"Here's something I found, Answer: {} \\n\".format(answer)\n",
    "else:\n",
    "\tresponse = \"Sorry I couldn't find anything relevant to your query!\"\n",
    "print(response)"
   ]
  },
  {
   "cell_type": "code",
   "execution_count": 3,
   "metadata": {},
   "outputs": [
    {
     "name": "stdout",
     "output_type": "stream",
     "text": [
      "Collecting pandas\n",
      "  Downloading pandas-1.0.3-cp37-cp37m-win_amd64.whl (8.7 MB)\n",
      "Requirement already satisfied: python-dateutil>=2.6.1 in d:\\anaconda\\lib\\site-packages (from pandas) (2.8.1)\n",
      "Requirement already satisfied: pytz>=2017.2 in d:\\anaconda\\lib\\site-packages (from pandas) (2019.3)\n",
      "Collecting numpy>=1.13.3\n",
      "  Downloading numpy-1.18.3-cp37-cp37m-win_amd64.whl (12.8 MB)\n",
      "Requirement already satisfied: six>=1.5 in d:\\anaconda\\lib\\site-packages (from python-dateutil>=2.6.1->pandas) (1.14.0)\n",
      "Installing collected packages: numpy, pandas\n",
      "Successfully installed numpy-1.18.3 pandas-1.0.3\n",
      "Note: you may need to restart the kernel to use updated packages.\n"
     ]
    }
   ],
   "source": []
  },
  {
   "cell_type": "code",
   "execution_count": 4,
   "metadata": {},
   "outputs": [
    {
     "name": "stdout",
     "output_type": "stream",
     "text": [
      "Collecting fuzzywuzzy\n",
      "  Using cached fuzzywuzzy-0.18.0-py2.py3-none-any.whl (18 kB)\n",
      "Installing collected packages: fuzzywuzzy\n",
      "Successfully installed fuzzywuzzy-0.18.0\n",
      "Note: you may need to restart the kernel to use updated packages.\n"
     ]
    }
   ],
   "source": []
  },
  {
   "cell_type": "code",
   "execution_count": null,
   "metadata": {},
   "outputs": [],
   "source": [
    "from __future__ import absolute_import\n",
    "from __future__ import division\n",
    "from __future__ import unicode_literals\n",
    "\n",
    "from rasa_core_sdk import Action\n",
    "from rasa_core_sdk.events import SlotSet\n",
    "\n",
    "import pandas as pd\n",
    "from fuzzywuzzy import fuzz\n",
    "from fuzzywuzzy import process\n",
    "\n",
    "class GetAnswer(Action):\n",
    "\tdef __init__(self):\n",
    "\t\tself.faq_data = pd.read_csv('./data/FAQ.csv')\n",
    "\n",
    "\tdef name(self):\n",
    "\t\treturn 'action_get_answer'\n",
    "\t\t\n",
    "\tdef run(self, dispatcher, tracker, domain):\n",
    "\t\tquery = tracker.latest_message.text\n",
    "\t\tquestions = self.faq_data['question'].values.tolist()\n",
    "\t\tanswer = self.faq_data['answers'].values.tolist()\n",
    "\t\tRatios = process.extract(query, questions)\n",
    "\t\tprint(Ratios)\n",
    "\n",
    "\t\tmathed_question, score = process.extractOne(query, questions, scorer=fuzz.token_set_ratio)\n",
    "\n",
    "\t\tif score > 50:\n",
    "\t\t    matched_row = self.faq_data.loc[self.faq_data['question'] == mathed_question,]\n",
    "\t\t    answer = matched_row['answers'].values[0]\n",
    "\t\t    response = \"Here's something I found, \\n Answer: {} \\n\".format(answer)\n",
    "\n",
    "\t\telse:\n",
    "\t\t\tresponse = \"Sorry I couldn't find anything relevant to your query!\"\n",
    "\t\t\t\t\t\t\n",
    "\t\tdispatcher.utter_message(response)"
   ]
  }
 ],
 "metadata": {
  "kernelspec": {
   "display_name": "Python 3",
   "language": "python",
   "name": "python3"
  },
  "language_info": {
   "codemirror_mode": {
    "name": "ipython",
    "version": 3
   },
   "file_extension": ".py",
   "mimetype": "text/x-python",
   "name": "python",
   "nbconvert_exporter": "python",
   "pygments_lexer": "ipython3",
   "version": "3.7.6"
  }
 },
 "nbformat": 4,
 "nbformat_minor": 4
}
